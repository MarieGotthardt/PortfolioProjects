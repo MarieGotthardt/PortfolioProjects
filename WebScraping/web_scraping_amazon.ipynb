{
 "cells": [
  {
   "cell_type": "markdown",
   "source": [
    "# Web Scraper:  Amazon Product\n",
    "In this project, I retrieve product information from Amazon about a specific product and save it to a pandas dataframe and a csv file. The information about the product can be automatically pulled daily over a prolonged period of time to create time series data. The project is inspired by AlexTheAnalyst."
   ],
   "metadata": {
    "collapsed": false
   }
  },
  {
   "cell_type": "code",
   "execution_count": 61,
   "outputs": [],
   "source": [
    "# imports\n",
    "from bs4 import BeautifulSoup\n",
    "import requests\n",
    "import time\n",
    "import datetime\n",
    "import csv\n",
    "import pandas as pd"
   ],
   "metadata": {
    "collapsed": false,
    "ExecuteTime": {
     "end_time": "2023-08-05T12:07:17.557043300Z",
     "start_time": "2023-08-05T12:07:16.443066800Z"
    }
   }
  },
  {
   "cell_type": "code",
   "execution_count": 73,
   "outputs": [],
   "source": [
    "# connect to website\n",
    "url = 'https://www.amazon.se/Kawaii-nattlampa-amningslampa-f%C3%A4rgv%C3%A4xling-dekoration-f%C3%B6delsedag/dp/B07NW8ZM3M/ref=sr_1_28?keywords=lampa&qid=1691235289&sprefix=lamp%2Caps%2C281&sr=8-28&th=1'\n",
    "headers = {\"User-Agent\": \"Mozilla/5.0 (Windows NT 10.0; Win64; x64) AppleWebKit/537.36 (KHTML, like Gecko) Chrome/115.0.0.0 Safari/537.36\"}\n",
    "page = requests.get(url, headers=headers)\n"
   ],
   "metadata": {
    "collapsed": false,
    "ExecuteTime": {
     "end_time": "2023-08-05T12:20:01.026228900Z",
     "start_time": "2023-08-05T12:19:58.179779900Z"
    }
   }
  },
  {
   "cell_type": "code",
   "execution_count": 74,
   "outputs": [],
   "source": [
    "soup = BeautifulSoup(page.content, 'html.parser')\n",
    "print(soup.prettify())"
   ],
   "metadata": {
    "collapsed": false,
    "ExecuteTime": {
     "end_time": "2023-08-05T12:20:04.542054300Z",
     "start_time": "2023-08-05T12:20:04.385542500Z"
    }
   }
  },
  {
   "cell_type": "code",
   "execution_count": 75,
   "outputs": [
    {
     "name": "stdout",
     "output_type": "stream",
     "text": [
      "        Chwares Nattlampa barn, Kawaii-nattlampa baby, USB LED- sänglampa babyrum, silikon amningslampa, dimbar, touch för flickor, kvinnor, färgväxling, sovlampa, barnrum, dekoration, födelsedag, present       \n"
     ]
    }
   ],
   "source": [
    "# get product title\n",
    "title = soup.find(id=\"productTitle\").get_text()\n",
    "print(title)"
   ],
   "metadata": {
    "collapsed": false,
    "ExecuteTime": {
     "end_time": "2023-08-05T12:20:06.616252500Z",
     "start_time": "2023-08-05T12:20:06.603489500Z"
    }
   }
  },
  {
   "cell_type": "code",
   "execution_count": 51,
   "outputs": [
    {
     "name": "stdout",
     "output_type": "stream",
     "text": [
      "199,99kr\n"
     ]
    }
   ],
   "source": [
    "# get product price\n",
    "price = soup.find_all('span', {\"class\": \"a-offscreen\"})[0].get_text()\n",
    "print(price)"
   ],
   "metadata": {
    "collapsed": false,
    "ExecuteTime": {
     "end_time": "2023-08-05T12:02:24.756305Z",
     "start_time": "2023-08-05T12:02:24.720061600Z"
    }
   }
  },
  {
   "cell_type": "code",
   "execution_count": 52,
   "outputs": [
    {
     "name": "stdout",
     "output_type": "stream",
     "text": [
      "199,99\n"
     ]
    }
   ],
   "source": [
    "# clean up title and price\n",
    "title = title.strip()\n",
    "price = price.strip()[:-2]"
   ],
   "metadata": {
    "collapsed": false,
    "ExecuteTime": {
     "end_time": "2023-08-05T12:02:26.606648Z",
     "start_time": "2023-08-05T12:02:26.595556400Z"
    }
   }
  },
  {
   "cell_type": "markdown",
   "source": [],
   "metadata": {
    "collapsed": false
   }
  },
  {
   "cell_type": "code",
   "execution_count": 59,
   "outputs": [
    {
     "name": "stdout",
     "output_type": "stream",
     "text": [
      "2023-08-05\n"
     ]
    }
   ],
   "source": [
    "date = datetime.date.today()"
   ],
   "metadata": {
    "collapsed": false,
    "ExecuteTime": {
     "end_time": "2023-08-05T12:06:57.847600500Z",
     "start_time": "2023-08-05T12:06:57.826084500Z"
    }
   }
  },
  {
   "cell_type": "code",
   "execution_count": 67,
   "outputs": [],
   "source": [
    "# create csv\n",
    "header = ['Product', 'Price', 'Date']\n",
    "data = [title, price, date]\n",
    "\n",
    "# only use to initialize the csv\n",
    "#with open('AmazonWebScraperDataset.csv', 'w', newline='', encoding='UTF8') as f:\n",
    "#    writer = csv.writer(f)\n",
    "#    writer.writerow(header)\n",
    "#    writer.writerow(data)"
   ],
   "metadata": {
    "collapsed": false,
    "ExecuteTime": {
     "end_time": "2023-08-05T12:09:05.376608100Z",
     "start_time": "2023-08-05T12:09:05.360007600Z"
    }
   }
  },
  {
   "cell_type": "code",
   "execution_count": 69,
   "outputs": [
    {
     "data": {
      "text/plain": "                                             Product   Price        Date\n0  Chwares Nattlampa barn, Kawaii-nattlampa baby,...  199,99  2023-08-05",
      "text/html": "<div>\n<style scoped>\n    .dataframe tbody tr th:only-of-type {\n        vertical-align: middle;\n    }\n\n    .dataframe tbody tr th {\n        vertical-align: top;\n    }\n\n    .dataframe thead th {\n        text-align: right;\n    }\n</style>\n<table border=\"1\" class=\"dataframe\">\n  <thead>\n    <tr style=\"text-align: right;\">\n      <th></th>\n      <th>Product</th>\n      <th>Price</th>\n      <th>Date</th>\n    </tr>\n  </thead>\n  <tbody>\n    <tr>\n      <th>0</th>\n      <td>Chwares Nattlampa barn, Kawaii-nattlampa baby,...</td>\n      <td>199,99</td>\n      <td>2023-08-05</td>\n    </tr>\n  </tbody>\n</table>\n</div>"
     },
     "execution_count": 69,
     "metadata": {},
     "output_type": "execute_result"
    }
   ],
   "source": [
    "df = pd.read_csv(r'C:\\Users\\marie\\Documents\\Portfolio\\Data Analyst Projects\\Project6\\AmazonWebScraperDataset.csv')\n",
    "df\n"
   ],
   "metadata": {
    "collapsed": false,
    "ExecuteTime": {
     "end_time": "2023-08-05T12:13:01.941478400Z",
     "start_time": "2023-08-05T12:13:01.904611700Z"
    }
   }
  },
  {
   "cell_type": "code",
   "execution_count": null,
   "outputs": [],
   "source": [
    "# append data to csv\n",
    "with open('AmazonWebScraperDataset.csv', 'a+', newline='', encoding='UTF8') as f:\n",
    "    writer = csv.writer(f)\n",
    "    writer.writerow(data)"
   ],
   "metadata": {
    "collapsed": false
   }
  },
  {
   "cell_type": "code",
   "execution_count": 76,
   "outputs": [],
   "source": [
    "# function to check price and write to csv\n",
    "def check_price():\n",
    "    url = 'https://www.amazon.se/Kawaii-nattlampa-amningslampa-f%C3%A4rgv%C3%A4xling-dekoration-f%C3%B6delsedag/dp/B07NW8ZM3M/ref=sr_1_28?keywords=lampa&qid=1691235289&sprefix=lamp%2Caps%2C281&sr=8-28&th=1'\n",
    "    headers = {\"User-Agent\": \"Mozilla/5.0 (Windows NT 10.0; Win64; x64) AppleWebKit/537.36 (KHTML, like Gecko) Chrome/115.0.0.0 Safari/537.36\"}\n",
    "    page = requests.get(url, headers=headers)\n",
    "    soup = BeautifulSoup(page.content, 'html.parser')\n",
    "\n",
    "    title = soup.find(id=\"productTitle\").get_text()\n",
    "    title = title.strip()\n",
    "\n",
    "    price = soup.find_all('span', {\"class\": \"a-offscreen\"})[0].get_text()\n",
    "    price = price.strip()[:-2]\n",
    "\n",
    "    date = datetime.date.today()\n",
    "\n",
    "    header = ['Product', 'Price', 'Date']\n",
    "    data = [title, price, date]\n",
    "\n",
    "    with open('AmazonWebScraperDataset.csv', 'a+', newline='', encoding='UTF8') as f:\n",
    "        writer = csv.writer(f)\n",
    "        writer.writerow(data)"
   ],
   "metadata": {
    "collapsed": false,
    "ExecuteTime": {
     "end_time": "2023-08-05T12:20:21.040149900Z",
     "start_time": "2023-08-05T12:20:21.027690100Z"
    }
   }
  },
  {
   "cell_type": "code",
   "execution_count": 77,
   "outputs": [
    {
     "ename": "KeyboardInterrupt",
     "evalue": "",
     "output_type": "error",
     "traceback": [
      "\u001B[1;31m---------------------------------------------------------------------------\u001B[0m",
      "\u001B[1;31mKeyboardInterrupt\u001B[0m                         Traceback (most recent call last)",
      "Cell \u001B[1;32mIn[77], line 3\u001B[0m\n\u001B[0;32m      1\u001B[0m \u001B[38;5;28;01mwhile\u001B[39;00m(\u001B[38;5;28;01mTrue\u001B[39;00m):\n\u001B[0;32m      2\u001B[0m     check_price()\n\u001B[1;32m----> 3\u001B[0m     \u001B[43mtime\u001B[49m\u001B[38;5;241;43m.\u001B[39;49m\u001B[43msleep\u001B[49m\u001B[43m(\u001B[49m\u001B[38;5;241;43m5\u001B[39;49m\u001B[43m)\u001B[49m\n",
      "\u001B[1;31mKeyboardInterrupt\u001B[0m: "
     ]
    }
   ],
   "source": [
    "# check price daily\n",
    "while(True):\n",
    "    check_price()\n",
    "    time.sleep(86400)"
   ],
   "metadata": {
    "collapsed": false,
    "ExecuteTime": {
     "end_time": "2023-08-05T12:21:01.084250300Z",
     "start_time": "2023-08-05T12:20:23.066273400Z"
    }
   }
  },
  {
   "cell_type": "code",
   "execution_count": 78,
   "outputs": [
    {
     "data": {
      "text/plain": "                                             Product   Price        Date\n0  Chwares Nattlampa barn, Kawaii-nattlampa baby,...  199,99  2023-08-05\n1  Chwares Nattlampa barn, Kawaii-nattlampa baby,...  199,99  2023-08-05\n2  Chwares Nattlampa barn, Kawaii-nattlampa baby,...  199,99  2023-08-05\n3  Chwares Nattlampa barn, Kawaii-nattlampa baby,...  199,99  2023-08-05\n4  Chwares Nattlampa barn, Kawaii-nattlampa baby,...  199,99  2023-08-05\n5  Chwares Nattlampa barn, Kawaii-nattlampa baby,...  199,99  2023-08-05\n6  Chwares Nattlampa barn, Kawaii-nattlampa baby,...  199,99  2023-08-05",
      "text/html": "<div>\n<style scoped>\n    .dataframe tbody tr th:only-of-type {\n        vertical-align: middle;\n    }\n\n    .dataframe tbody tr th {\n        vertical-align: top;\n    }\n\n    .dataframe thead th {\n        text-align: right;\n    }\n</style>\n<table border=\"1\" class=\"dataframe\">\n  <thead>\n    <tr style=\"text-align: right;\">\n      <th></th>\n      <th>Product</th>\n      <th>Price</th>\n      <th>Date</th>\n    </tr>\n  </thead>\n  <tbody>\n    <tr>\n      <th>0</th>\n      <td>Chwares Nattlampa barn, Kawaii-nattlampa baby,...</td>\n      <td>199,99</td>\n      <td>2023-08-05</td>\n    </tr>\n    <tr>\n      <th>1</th>\n      <td>Chwares Nattlampa barn, Kawaii-nattlampa baby,...</td>\n      <td>199,99</td>\n      <td>2023-08-05</td>\n    </tr>\n    <tr>\n      <th>2</th>\n      <td>Chwares Nattlampa barn, Kawaii-nattlampa baby,...</td>\n      <td>199,99</td>\n      <td>2023-08-05</td>\n    </tr>\n    <tr>\n      <th>3</th>\n      <td>Chwares Nattlampa barn, Kawaii-nattlampa baby,...</td>\n      <td>199,99</td>\n      <td>2023-08-05</td>\n    </tr>\n    <tr>\n      <th>4</th>\n      <td>Chwares Nattlampa barn, Kawaii-nattlampa baby,...</td>\n      <td>199,99</td>\n      <td>2023-08-05</td>\n    </tr>\n    <tr>\n      <th>5</th>\n      <td>Chwares Nattlampa barn, Kawaii-nattlampa baby,...</td>\n      <td>199,99</td>\n      <td>2023-08-05</td>\n    </tr>\n    <tr>\n      <th>6</th>\n      <td>Chwares Nattlampa barn, Kawaii-nattlampa baby,...</td>\n      <td>199,99</td>\n      <td>2023-08-05</td>\n    </tr>\n  </tbody>\n</table>\n</div>"
     },
     "execution_count": 78,
     "metadata": {},
     "output_type": "execute_result"
    }
   ],
   "source": [
    "df = pd.read_csv(r'C:\\Users\\marie\\Documents\\Portfolio\\Data Analyst Projects\\Project6\\AmazonWebScraperDataset.csv')\n",
    "df"
   ],
   "metadata": {
    "collapsed": false,
    "ExecuteTime": {
     "end_time": "2023-08-05T12:21:03.734155200Z",
     "start_time": "2023-08-05T12:21:03.694860500Z"
    }
   }
  },
  {
   "cell_type": "code",
   "execution_count": null,
   "outputs": [],
   "source": [],
   "metadata": {
    "collapsed": false
   }
  }
 ],
 "metadata": {
  "kernelspec": {
   "display_name": "Python 3",
   "language": "python",
   "name": "python3"
  },
  "language_info": {
   "codemirror_mode": {
    "name": "ipython",
    "version": 2
   },
   "file_extension": ".py",
   "mimetype": "text/x-python",
   "name": "python",
   "nbconvert_exporter": "python",
   "pygments_lexer": "ipython2",
   "version": "2.7.6"
  }
 },
 "nbformat": 4,
 "nbformat_minor": 0
}
